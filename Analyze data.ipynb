{
  "nbformat": 4,
  "nbformat_minor": 0,
  "metadata": {
    "colab": {
      "provenance": []
    },
    "kernelspec": {
      "name": "python3",
      "display_name": "Python 3"
    },
    "language_info": {
      "name": "python"
    }
  },
  "cells": [
    {
      "cell_type": "markdown",
      "source": [
        "### SET UP"
      ],
      "metadata": {
        "id": "O9eFDt8QPHv0"
      }
    },
    {
      "cell_type": "code",
      "source": [
        "# Cài Java 8\n",
        "!apt-get install openjdk-8-jdk-headless -qq > /dev/null\n",
        "\n",
        "# Tải và giải nén Spark\n",
        "!wget -q https://archive.apache.org/dist/spark/spark-3.3.2/spark-3.3.2-bin-hadoop3.tgz\n",
        "!tar xf spark-3.3.2-bin-hadoop3.tgz\n",
        "\n",
        "# Cài findspark\n",
        "!pip install -q findspark\n",
        "\n",
        "# Thiết lập biến môi trường cho JAVA và SPARK\n",
        "import os\n",
        "os.environ[\"JAVA_HOME\"] = \"/usr/lib/jvm/java-8-openjdk-amd64\"\n",
        "os.environ[\"SPARK_HOME\"] = \"/content/spark-3.3.2-bin-hadoop3\"\n",
        "\n",
        "# Khởi tạo findspark\n",
        "import findspark\n",
        "findspark.init()\n",
        "\n",
        "# Import SparkSession và khởi tạo\n",
        "from pyspark.sql import SparkSession\n",
        "\n",
        "spark = SparkSession.builder \\\n",
        "    .appName(\"OnlineRestore\") \\\n",
        "    .master(\"local[*]\") \\\n",
        "    .getOrCreate()\n",
        "\n",
        "# Kiểm tra phiên bản Spark\n",
        "print(\"Spark version:\", spark.version)\n"
      ],
      "metadata": {
        "colab": {
          "base_uri": "https://localhost:8080/"
        },
        "id": "SYpSVLfRPKLV",
        "outputId": "fc3d9252-382e-448b-ba4c-9fdaba2169e9"
      },
      "execution_count": 23,
      "outputs": [
        {
          "output_type": "stream",
          "name": "stdout",
          "text": [
            "Spark version: 3.3.2\n"
          ]
        }
      ]
    },
    {
      "cell_type": "code",
      "source": [
        "from google.colab import files\n",
        "file= files.upload()"
      ],
      "metadata": {
        "colab": {
          "base_uri": "https://localhost:8080/",
          "height": 73
        },
        "id": "j0DIz1p6P7OI",
        "outputId": "2a91878d-54cb-479b-e56b-8f818d17c9af"
      },
      "execution_count": 24,
      "outputs": [
        {
          "output_type": "display_data",
          "data": {
            "text/plain": [
              "<IPython.core.display.HTML object>"
            ],
            "text/html": [
              "\n",
              "     <input type=\"file\" id=\"files-af71fdb7-016d-4e3f-9f19-190e6d4114ec\" name=\"files[]\" multiple disabled\n",
              "        style=\"border:none\" />\n",
              "     <output id=\"result-af71fdb7-016d-4e3f-9f19-190e6d4114ec\">\n",
              "      Upload widget is only available when the cell has been executed in the\n",
              "      current browser session. Please rerun this cell to enable.\n",
              "      </output>\n",
              "      <script>// Copyright 2017 Google LLC\n",
              "//\n",
              "// Licensed under the Apache License, Version 2.0 (the \"License\");\n",
              "// you may not use this file except in compliance with the License.\n",
              "// You may obtain a copy of the License at\n",
              "//\n",
              "//      http://www.apache.org/licenses/LICENSE-2.0\n",
              "//\n",
              "// Unless required by applicable law or agreed to in writing, software\n",
              "// distributed under the License is distributed on an \"AS IS\" BASIS,\n",
              "// WITHOUT WARRANTIES OR CONDITIONS OF ANY KIND, either express or implied.\n",
              "// See the License for the specific language governing permissions and\n",
              "// limitations under the License.\n",
              "\n",
              "/**\n",
              " * @fileoverview Helpers for google.colab Python module.\n",
              " */\n",
              "(function(scope) {\n",
              "function span(text, styleAttributes = {}) {\n",
              "  const element = document.createElement('span');\n",
              "  element.textContent = text;\n",
              "  for (const key of Object.keys(styleAttributes)) {\n",
              "    element.style[key] = styleAttributes[key];\n",
              "  }\n",
              "  return element;\n",
              "}\n",
              "\n",
              "// Max number of bytes which will be uploaded at a time.\n",
              "const MAX_PAYLOAD_SIZE = 100 * 1024;\n",
              "\n",
              "function _uploadFiles(inputId, outputId) {\n",
              "  const steps = uploadFilesStep(inputId, outputId);\n",
              "  const outputElement = document.getElementById(outputId);\n",
              "  // Cache steps on the outputElement to make it available for the next call\n",
              "  // to uploadFilesContinue from Python.\n",
              "  outputElement.steps = steps;\n",
              "\n",
              "  return _uploadFilesContinue(outputId);\n",
              "}\n",
              "\n",
              "// This is roughly an async generator (not supported in the browser yet),\n",
              "// where there are multiple asynchronous steps and the Python side is going\n",
              "// to poll for completion of each step.\n",
              "// This uses a Promise to block the python side on completion of each step,\n",
              "// then passes the result of the previous step as the input to the next step.\n",
              "function _uploadFilesContinue(outputId) {\n",
              "  const outputElement = document.getElementById(outputId);\n",
              "  const steps = outputElement.steps;\n",
              "\n",
              "  const next = steps.next(outputElement.lastPromiseValue);\n",
              "  return Promise.resolve(next.value.promise).then((value) => {\n",
              "    // Cache the last promise value to make it available to the next\n",
              "    // step of the generator.\n",
              "    outputElement.lastPromiseValue = value;\n",
              "    return next.value.response;\n",
              "  });\n",
              "}\n",
              "\n",
              "/**\n",
              " * Generator function which is called between each async step of the upload\n",
              " * process.\n",
              " * @param {string} inputId Element ID of the input file picker element.\n",
              " * @param {string} outputId Element ID of the output display.\n",
              " * @return {!Iterable<!Object>} Iterable of next steps.\n",
              " */\n",
              "function* uploadFilesStep(inputId, outputId) {\n",
              "  const inputElement = document.getElementById(inputId);\n",
              "  inputElement.disabled = false;\n",
              "\n",
              "  const outputElement = document.getElementById(outputId);\n",
              "  outputElement.innerHTML = '';\n",
              "\n",
              "  const pickedPromise = new Promise((resolve) => {\n",
              "    inputElement.addEventListener('change', (e) => {\n",
              "      resolve(e.target.files);\n",
              "    });\n",
              "  });\n",
              "\n",
              "  const cancel = document.createElement('button');\n",
              "  inputElement.parentElement.appendChild(cancel);\n",
              "  cancel.textContent = 'Cancel upload';\n",
              "  const cancelPromise = new Promise((resolve) => {\n",
              "    cancel.onclick = () => {\n",
              "      resolve(null);\n",
              "    };\n",
              "  });\n",
              "\n",
              "  // Wait for the user to pick the files.\n",
              "  const files = yield {\n",
              "    promise: Promise.race([pickedPromise, cancelPromise]),\n",
              "    response: {\n",
              "      action: 'starting',\n",
              "    }\n",
              "  };\n",
              "\n",
              "  cancel.remove();\n",
              "\n",
              "  // Disable the input element since further picks are not allowed.\n",
              "  inputElement.disabled = true;\n",
              "\n",
              "  if (!files) {\n",
              "    return {\n",
              "      response: {\n",
              "        action: 'complete',\n",
              "      }\n",
              "    };\n",
              "  }\n",
              "\n",
              "  for (const file of files) {\n",
              "    const li = document.createElement('li');\n",
              "    li.append(span(file.name, {fontWeight: 'bold'}));\n",
              "    li.append(span(\n",
              "        `(${file.type || 'n/a'}) - ${file.size} bytes, ` +\n",
              "        `last modified: ${\n",
              "            file.lastModifiedDate ? file.lastModifiedDate.toLocaleDateString() :\n",
              "                                    'n/a'} - `));\n",
              "    const percent = span('0% done');\n",
              "    li.appendChild(percent);\n",
              "\n",
              "    outputElement.appendChild(li);\n",
              "\n",
              "    const fileDataPromise = new Promise((resolve) => {\n",
              "      const reader = new FileReader();\n",
              "      reader.onload = (e) => {\n",
              "        resolve(e.target.result);\n",
              "      };\n",
              "      reader.readAsArrayBuffer(file);\n",
              "    });\n",
              "    // Wait for the data to be ready.\n",
              "    let fileData = yield {\n",
              "      promise: fileDataPromise,\n",
              "      response: {\n",
              "        action: 'continue',\n",
              "      }\n",
              "    };\n",
              "\n",
              "    // Use a chunked sending to avoid message size limits. See b/62115660.\n",
              "    let position = 0;\n",
              "    do {\n",
              "      const length = Math.min(fileData.byteLength - position, MAX_PAYLOAD_SIZE);\n",
              "      const chunk = new Uint8Array(fileData, position, length);\n",
              "      position += length;\n",
              "\n",
              "      const base64 = btoa(String.fromCharCode.apply(null, chunk));\n",
              "      yield {\n",
              "        response: {\n",
              "          action: 'append',\n",
              "          file: file.name,\n",
              "          data: base64,\n",
              "        },\n",
              "      };\n",
              "\n",
              "      let percentDone = fileData.byteLength === 0 ?\n",
              "          100 :\n",
              "          Math.round((position / fileData.byteLength) * 100);\n",
              "      percent.textContent = `${percentDone}% done`;\n",
              "\n",
              "    } while (position < fileData.byteLength);\n",
              "  }\n",
              "\n",
              "  // All done.\n",
              "  yield {\n",
              "    response: {\n",
              "      action: 'complete',\n",
              "    }\n",
              "  };\n",
              "}\n",
              "\n",
              "scope.google = scope.google || {};\n",
              "scope.google.colab = scope.google.colab || {};\n",
              "scope.google.colab._files = {\n",
              "  _uploadFiles,\n",
              "  _uploadFilesContinue,\n",
              "};\n",
              "})(self);\n",
              "</script> "
            ]
          },
          "metadata": {}
        },
        {
          "output_type": "stream",
          "name": "stdout",
          "text": [
            "Saving OnlineRetail.csv to OnlineRetail (1).csv\n"
          ]
        }
      ]
    },
    {
      "cell_type": "markdown",
      "source": [
        "### 2. Load data"
      ],
      "metadata": {
        "id": "U3Svc2Y6QAEy"
      }
    },
    {
      "cell_type": "code",
      "source": [
        "df = spark.read.csv(\"OnlineRetail.csv\", header=True, inferSchema=True)\n",
        "df.show(5)"
      ],
      "metadata": {
        "colab": {
          "base_uri": "https://localhost:8080/"
        },
        "id": "cWUQi9zQQDhb",
        "outputId": "e87910e2-0f9f-452a-d1db-e8fdf2cbf008"
      },
      "execution_count": 25,
      "outputs": [
        {
          "output_type": "stream",
          "name": "stdout",
          "text": [
            "+---------+---------+--------------------+--------+--------------+---------+----------+--------------+\n",
            "|InvoiceNo|StockCode|         Description|Quantity|   InvoiceDate|UnitPrice|CustomerID|       Country|\n",
            "+---------+---------+--------------------+--------+--------------+---------+----------+--------------+\n",
            "|   536365|   85123A|WHITE HANGING HEA...|       6|12/1/2010 8:26|     2.55|     17850|United Kingdom|\n",
            "|   536365|    71053| WHITE METAL LANTERN|       6|12/1/2010 8:26|     3.39|     17850|United Kingdom|\n",
            "|   536365|   84406B|CREAM CUPID HEART...|       8|12/1/2010 8:26|     2.75|     17850|United Kingdom|\n",
            "|   536365|   84029G|KNITTED UNION FLA...|       6|12/1/2010 8:26|     3.39|     17850|United Kingdom|\n",
            "|   536365|   84029E|RED WOOLLY HOTTIE...|       6|12/1/2010 8:26|     3.39|     17850|United Kingdom|\n",
            "+---------+---------+--------------------+--------+--------------+---------+----------+--------------+\n",
            "only showing top 5 rows\n",
            "\n"
          ]
        }
      ]
    },
    {
      "cell_type": "markdown",
      "source": [
        "#### 3. Data Profiling, Anomaly Detection and Data Cleaning"
      ],
      "metadata": {
        "id": "d-a93k9qIFVk"
      }
    },
    {
      "cell_type": "markdown",
      "source": [
        "##### 3.1 Check the number of colummns and rows"
      ],
      "metadata": {
        "id": "-9mS96zlIfmJ"
      }
    },
    {
      "cell_type": "code",
      "source": [
        "# Check the number of columns and rows\n",
        "print(\"Number of columns: \", len(df.columns))\n",
        "print(\"Number of rows: \", df.count())"
      ],
      "metadata": {
        "colab": {
          "base_uri": "https://localhost:8080/"
        },
        "id": "qDoV8vHmIEUl",
        "outputId": "88ef56fb-04c9-44b4-dd24-8a803bcf1f12"
      },
      "execution_count": 28,
      "outputs": [
        {
          "output_type": "stream",
          "name": "stdout",
          "text": [
            "Number of columns:  8\n",
            "Number of rows:  541909\n"
          ]
        }
      ]
    },
    {
      "cell_type": "markdown",
      "source": [
        "##### 3.2 Abnormal 1: Check and correct Data Type"
      ],
      "metadata": {
        "id": "AewXEy-kImpX"
      }
    },
    {
      "cell_type": "code",
      "source": [
        "# Check schema\n",
        "df.printSchema()"
      ],
      "metadata": {
        "colab": {
          "base_uri": "https://localhost:8080/"
        },
        "id": "BBZwtD6ZIisj",
        "outputId": "bf1c8720-d814-495e-cfd2-e732ab8bcd71"
      },
      "execution_count": 29,
      "outputs": [
        {
          "output_type": "stream",
          "name": "stdout",
          "text": [
            "root\n",
            " |-- InvoiceNo: string (nullable = true)\n",
            " |-- StockCode: string (nullable = true)\n",
            " |-- Description: string (nullable = true)\n",
            " |-- Quantity: integer (nullable = true)\n",
            " |-- InvoiceDate: string (nullable = true)\n",
            " |-- UnitPrice: double (nullable = true)\n",
            " |-- CustomerID: integer (nullable = true)\n",
            " |-- Country: string (nullable = true)\n",
            "\n"
          ]
        }
      ]
    },
    {
      "cell_type": "code",
      "source": [
        "# Convert datatype of InvoiceDate to timestamp\n",
        "df_cleaned = df.withColumn(\"InvoiceDate\", to_timestamp(\"InvoiceDate\", \"M/d/yyyy H:mm\"))\n",
        "\n",
        "# Re-check schema\n",
        "df_cleaned.printSchema()"
      ],
      "metadata": {
        "colab": {
          "base_uri": "https://localhost:8080/"
        },
        "id": "_rEzjh_mIpoR",
        "outputId": "51562e83-2b4c-4d18-929e-5123f2843eff"
      },
      "execution_count": 30,
      "outputs": [
        {
          "output_type": "stream",
          "name": "stdout",
          "text": [
            "root\n",
            " |-- InvoiceNo: string (nullable = true)\n",
            " |-- StockCode: string (nullable = true)\n",
            " |-- Description: string (nullable = true)\n",
            " |-- Quantity: integer (nullable = true)\n",
            " |-- InvoiceDate: timestamp (nullable = true)\n",
            " |-- UnitPrice: double (nullable = true)\n",
            " |-- CustomerID: integer (nullable = true)\n",
            " |-- Country: string (nullable = true)\n",
            "\n"
          ]
        }
      ]
    },
    {
      "cell_type": "markdown",
      "source": [
        "### 3.3 Abnormal 2: Check and handle missing values"
      ],
      "metadata": {
        "id": "WuVCOVXjSY6D"
      }
    },
    {
      "cell_type": "code",
      "source": [
        "# Check for missing values in original data\n",
        "missing_values = df_cleaned.select([\n",
        "    count(when(col(c).isNull(), c)).alias(c) for c in df_cleaned.columns\n",
        "])\n",
        "missing_values.show()\n"
      ],
      "metadata": {
        "colab": {
          "base_uri": "https://localhost:8080/"
        },
        "id": "V6tZ7jcbIwKs",
        "outputId": "1c9bbc74-2413-43da-c26c-bd110426ab69"
      },
      "execution_count": 31,
      "outputs": [
        {
          "output_type": "stream",
          "name": "stdout",
          "text": [
            "+---------+---------+-----------+--------+-----------+---------+----------+-------+\n",
            "|InvoiceNo|StockCode|Description|Quantity|InvoiceDate|UnitPrice|CustomerID|Country|\n",
            "+---------+---------+-----------+--------+-----------+---------+----------+-------+\n",
            "|        0|        0|       1454|       0|          0|        0|    135080|      0|\n",
            "+---------+---------+-----------+--------+-----------+---------+----------+-------+\n",
            "\n"
          ]
        }
      ]
    },
    {
      "cell_type": "markdown",
      "source": [
        "- Description: 1,454 --> remove since it is hard to guess the product description\n",
        "- CustomerID: 135,080 --> might keep them, change null value into Unknown"
      ],
      "metadata": {
        "id": "flTEfq71SnXL"
      }
    },
    {
      "cell_type": "code",
      "source": [
        "# Delete the null values in Description\n",
        "df_cleaned = df_cleaned.filter(df_cleaned.Description.isNotNull())\n",
        "\n",
        "# Change the value in CustomerID into \"Unknown\" for null values\n",
        "df_cleaned = df_cleaned.withColumn(\"CustomerID\", when(df_cleaned.CustomerID.isNull(), \"Unknown\").otherwise(df_cleaned.CustomerID))"
      ],
      "metadata": {
        "id": "orXRtV_iStpd"
      },
      "execution_count": 32,
      "outputs": []
    },
    {
      "cell_type": "code",
      "source": [
        "# Re-check for missing values in the cleaned data\n",
        "missing_values = df_cleaned.select([\n",
        "    count(when(col(c).isNull(), c)).alias(c) for c in df_cleaned.columns\n",
        "])\n",
        "missing_values.show()"
      ],
      "metadata": {
        "colab": {
          "base_uri": "https://localhost:8080/"
        },
        "id": "9WBoz05BSw0W",
        "outputId": "1af4b7a8-470a-4eb4-c372-67af938941d8"
      },
      "execution_count": 33,
      "outputs": [
        {
          "output_type": "stream",
          "name": "stdout",
          "text": [
            "+---------+---------+-----------+--------+-----------+---------+----------+-------+\n",
            "|InvoiceNo|StockCode|Description|Quantity|InvoiceDate|UnitPrice|CustomerID|Country|\n",
            "+---------+---------+-----------+--------+-----------+---------+----------+-------+\n",
            "|        0|        0|          0|       0|          0|        0|         0|      0|\n",
            "+---------+---------+-----------+--------+-----------+---------+----------+-------+\n",
            "\n"
          ]
        }
      ]
    },
    {
      "cell_type": "markdown",
      "source": [
        "### 3.4 Abnormal 3: Check and handle duplicate rows"
      ],
      "metadata": {
        "id": "0V2B-hDXSrIN"
      }
    },
    {
      "cell_type": "code",
      "source": [
        "# Check the number of duplicate rows\n",
        "duplicate_count = df_cleaned.count() - df_cleaned.dropDuplicates().count()\n",
        "print(\"Number of duplicate rows: \", duplicate_count)"
      ],
      "metadata": {
        "colab": {
          "base_uri": "https://localhost:8080/"
        },
        "id": "NRm3k5rHSlqc",
        "outputId": "07dffeaa-8c44-4b74-9a19-1ed6d8a4400d"
      },
      "execution_count": 34,
      "outputs": [
        {
          "output_type": "stream",
          "name": "stdout",
          "text": [
            "Number of duplicate rows:  5268\n"
          ]
        }
      ]
    },
    {
      "cell_type": "code",
      "source": [
        "# Drop duplicate rows\n",
        "df_cleaned = df_cleaned.dropDuplicates()"
      ],
      "metadata": {
        "id": "2CnlLtO1S13n"
      },
      "execution_count": 35,
      "outputs": []
    },
    {
      "cell_type": "code",
      "source": [
        "# Re-check the number of duplicate rows\n",
        "duplicate_count = df_cleaned.count() - df_cleaned.dropDuplicates().count()\n",
        "print(\"Number of duplicate rows: \", duplicate_count)"
      ],
      "metadata": {
        "colab": {
          "base_uri": "https://localhost:8080/"
        },
        "id": "s6_AiKeBS3wH",
        "outputId": "221c20cd-09a9-404c-9f5a-fc78882e05b1"
      },
      "execution_count": 36,
      "outputs": [
        {
          "output_type": "stream",
          "name": "stdout",
          "text": [
            "Number of duplicate rows:  0\n"
          ]
        }
      ]
    },
    {
      "cell_type": "markdown",
      "source": [
        "### 3.5 Abnormal 4: Handle negative Quantity and UnitPrice"
      ],
      "metadata": {
        "id": "5Kt9I-LtS5gf"
      }
    },
    {
      "cell_type": "markdown",
      "source": [
        "### Check the number of cancelled order: The InvoiceNo starts with C (has negative Quantity)"
      ],
      "metadata": {
        "id": "tHUAiQyOS75I"
      }
    },
    {
      "cell_type": "code",
      "source": [
        "cancel = df_cleaned.filter(col(\"InvoiceNo\").startswith(\"C\"))\n",
        "print(\"Number of canceled orders: \", cancel.count())\n",
        "cancel.show(5)"
      ],
      "metadata": {
        "colab": {
          "base_uri": "https://localhost:8080/"
        },
        "id": "bnZ34YkbTCEh",
        "outputId": "7075e5a5-88de-4337-8463-742bde6e3c4d"
      },
      "execution_count": 37,
      "outputs": [
        {
          "output_type": "stream",
          "name": "stdout",
          "text": [
            "Number of canceled orders:  9251\n",
            "+---------+---------+--------------------+--------+-------------------+---------+----------+--------------+\n",
            "|InvoiceNo|StockCode|         Description|Quantity|        InvoiceDate|UnitPrice|CustomerID|       Country|\n",
            "+---------+---------+--------------------+--------+-------------------+---------+----------+--------------+\n",
            "|  C536606|    20914|SET/5 RED RETROSP...|      -2|2010-12-02 09:10:00|     2.95|     14092|United Kingdom|\n",
            "|  C537998|    22727|ALARM CLOCK BAKEL...|      -4|2010-12-09 11:42:00|     3.75|     17411|United Kingdom|\n",
            "|  C538723|    22333|RETROSPOT PARTY B...|      -7|2010-12-14 11:12:00|     1.65|     12434|     Australia|\n",
            "|  C538763|    22107|  PIZZA PLATE IN BOX|      -8|2010-12-14 11:33:00|     3.75|     17722|United Kingdom|\n",
            "|  C539278|    22617|BAKING SET SPACEB...|      -6|2010-12-16 15:39:00|     4.95|     18269|United Kingdom|\n",
            "+---------+---------+--------------------+--------+-------------------+---------+----------+--------------+\n",
            "only showing top 5 rows\n",
            "\n"
          ]
        }
      ]
    },
    {
      "cell_type": "markdown",
      "source": [
        "### Check for invalid values in Quantity and UnitPrice:\n",
        "\n",
        "- Quantity < 0\n",
        "- UnitPrice < 0"
      ],
      "metadata": {
        "id": "J2ThpxLjS_0X"
      }
    },
    {
      "cell_type": "code",
      "source": [
        "# Quantity has negative value\n",
        "negative_Quantity = df_cleaned.filter(col(\"Quantity\") < 0).count()\n",
        "print(\"Number of negative Quantity: \", negative_Quantity)\n",
        "df_cleaned.filter(col(\"Quantity\") < 0).select(\"InvoiceNo\", \"Quantity\").show(5)"
      ],
      "metadata": {
        "colab": {
          "base_uri": "https://localhost:8080/"
        },
        "id": "k7rkv_p9TIDu",
        "outputId": "bb5ee48d-d855-4cfd-bb43-356473b0ca41"
      },
      "execution_count": 38,
      "outputs": [
        {
          "output_type": "stream",
          "name": "stdout",
          "text": [
            "Number of negative Quantity:  9725\n",
            "+---------+--------+\n",
            "|InvoiceNo|Quantity|\n",
            "+---------+--------+\n",
            "|  C536606|      -2|\n",
            "|  C537998|      -4|\n",
            "|  C538723|      -7|\n",
            "|  C538763|      -8|\n",
            "|  C539278|      -6|\n",
            "+---------+--------+\n",
            "only showing top 5 rows\n",
            "\n"
          ]
        }
      ]
    },
    {
      "cell_type": "code",
      "source": [
        "# UnitPrice has negative value\n",
        "negative_UnitPrice = df_cleaned.filter(col(\"UnitPrice\") < 0).count()\n",
        "print(\"Number of negative UnitPrice: \", negative_UnitPrice)\n",
        "df_cleaned.filter(col(\"UnitPrice\") < 0).select(\"InvoiceNo\", \"UnitPrice\").show(5)"
      ],
      "metadata": {
        "colab": {
          "base_uri": "https://localhost:8080/"
        },
        "id": "FJJvFdpKTKIU",
        "outputId": "f5ab4e75-2bd6-4a65-e9b3-0495cd54e728"
      },
      "execution_count": 39,
      "outputs": [
        {
          "output_type": "stream",
          "name": "stdout",
          "text": [
            "Number of negative UnitPrice:  2\n",
            "+---------+---------+\n",
            "|InvoiceNo|UnitPrice|\n",
            "+---------+---------+\n",
            "|  A563187|-11062.06|\n",
            "|  A563186|-11062.06|\n",
            "+---------+---------+\n",
            "\n"
          ]
        }
      ]
    },
    {
      "cell_type": "markdown",
      "source": [
        "- We can see that cancelled orders also have the negative Quantity.\n",
        "- The dataset contains 9,251 cancelled orders, while 9,725 orders have a negative quantity.\n",
        "- Therefore, in the Data Cleaning section, when we remove orders with negative quantities, we also remove the cancelled orders at the same time."
      ],
      "metadata": {
        "id": "VcGHrjyxTOV6"
      }
    },
    {
      "cell_type": "markdown",
      "source": [
        "### Remove abnormal Quantity and UnitPrice"
      ],
      "metadata": {
        "id": "ipsgMt0WTV6W"
      }
    },
    {
      "cell_type": "code",
      "source": [
        "# Filter out negative Quantity and UnitPrice\n",
        "df_cleaned = df_cleaned.filter((col(\"Quantity\") > 0) & (col(\"UnitPrice\") > 0))\n",
        "\n",
        "# Check negative Quantity and UnitPrice again\n",
        "print(\"Negative Quantity count:\", df_cleaned.filter(col(\"Quantity\") < 0).count())\n",
        "print(\"Negative UnitPrice count:\", df_cleaned.filter(col(\"UnitPrice\") < 0).count())\n",
        "\n",
        "# Check number of cancelled orders again\n",
        "cancel = df_cleaned.filter(col(\"InvoiceNo\").startswith(\"C\"))\n",
        "print(\"Number of cancelled orders: \", cancel.count())"
      ],
      "metadata": {
        "colab": {
          "base_uri": "https://localhost:8080/"
        },
        "id": "SKCXkKMyTMEs",
        "outputId": "44790504-6507-47e5-ffdf-b6e86d10f968"
      },
      "execution_count": 40,
      "outputs": [
        {
          "output_type": "stream",
          "name": "stdout",
          "text": [
            "Negative Quantity count: 0\n",
            "Negative UnitPrice count: 0\n",
            "Number of cancelled orders:  0\n"
          ]
        }
      ]
    },
    {
      "cell_type": "markdown",
      "source": [
        "### 3.6 Abnormal 5: Identify abnormal StockCode-Description pairs that are not actual products\n",
        "- Check abnormal StockCode"
      ],
      "metadata": {
        "id": "Jr_Fk1QLTZm0"
      }
    },
    {
      "cell_type": "code",
      "source": [
        "excluded_stockcodes = [\"POST\", \"DOT\", \"M\", \"C2\", \"BANK CHARGES\",\"S\", \"B\", \"AMAZONFEE\",\n",
        "                       \"gift_0001_10\", \"gift_0001_20\",\"gift_0001_30\",\"gift_0001_40\",\"gift_0001_50\"]\n",
        "\n",
        "# Identify rows with exclued StockCode\n",
        "df_excluded = df_cleaned.filter(col(\"StockCode\").isin(excluded_stockcodes))\n",
        "\n",
        "# Show distinct excluded StockCode - Description pairs\n",
        "df_excluded.select(\"StockCode\", \"Description\").distinct().show(truncate=False)"
      ],
      "metadata": {
        "colab": {
          "base_uri": "https://localhost:8080/"
        },
        "id": "-Jcwl9wLTgHR",
        "outputId": "0bf0dc27-3773-4b28-d576-d8aff516d86b"
      },
      "execution_count": 41,
      "outputs": [
        {
          "output_type": "stream",
          "name": "stdout",
          "text": [
            "+------------+----------------------------------+\n",
            "|StockCode   |Description                       |\n",
            "+------------+----------------------------------+\n",
            "|POST        |POSTAGE                           |\n",
            "|DOT         |DOTCOM POSTAGE                    |\n",
            "|gift_0001_40|Dotcomgiftshop Gift Voucher �40.00|\n",
            "|C2          |CARRIAGE                          |\n",
            "|gift_0001_30|Dotcomgiftshop Gift Voucher �30.00|\n",
            "|BANK CHARGES|Bank Charges                      |\n",
            "|M           |Manual                            |\n",
            "|AMAZONFEE   |AMAZON FEE                        |\n",
            "|gift_0001_50|Dotcomgiftshop Gift Voucher �50.00|\n",
            "|gift_0001_20|Dotcomgiftshop Gift Voucher �20.00|\n",
            "|S           |SAMPLES                           |\n",
            "|gift_0001_10|Dotcomgiftshop Gift Voucher �10.00|\n",
            "|B           |Adjust bad debt                   |\n",
            "+------------+----------------------------------+\n",
            "\n"
          ]
        }
      ]
    },
    {
      "cell_type": "markdown",
      "source": [
        "### Handle abnormal StockCode and Description pairs that are not actual products"
      ],
      "metadata": {
        "id": "SuEtVyfgTiL_"
      }
    },
    {
      "cell_type": "code",
      "source": [
        "df_cleaned = df_cleaned.filter(~col(\"StockCode\").isin(excluded_stockcodes))"
      ],
      "metadata": {
        "id": "MBkgnG4FTlXY"
      },
      "execution_count": 42,
      "outputs": []
    },
    {
      "cell_type": "code",
      "source": [
        "# Re-check the abnormal stock code\n",
        "df_excluded = df_cleaned.filter(col(\"StockCode\").isin(excluded_stockcodes))\n",
        "df_excluded.select(\"StockCode\", \"Description\").distinct().show(truncate=False)"
      ],
      "metadata": {
        "colab": {
          "base_uri": "https://localhost:8080/"
        },
        "id": "LHKbkwugTnjx",
        "outputId": "8763d6e7-f6be-442c-91d8-97cad7f7d6f6"
      },
      "execution_count": 43,
      "outputs": [
        {
          "output_type": "stream",
          "name": "stdout",
          "text": [
            "+---------+-----------+\n",
            "|StockCode|Description|\n",
            "+---------+-----------+\n",
            "+---------+-----------+\n",
            "\n"
          ]
        }
      ]
    },
    {
      "cell_type": "markdown",
      "source": [
        "### 4. Data cleaning results"
      ],
      "metadata": {
        "id": "Iy9Op8WETp6p"
      }
    },
    {
      "cell_type": "code",
      "source": [
        "# The number of rows before cleaning\n",
        "rows_before_cleaning = df.count()\n",
        "print(f\"Number of rows before cleaning: {rows_before_cleaning}\")"
      ],
      "metadata": {
        "colab": {
          "base_uri": "https://localhost:8080/"
        },
        "id": "u9CV-zjsTtz_",
        "outputId": "68fab46a-ebf5-474f-e4bf-d08bdea31f59"
      },
      "execution_count": 44,
      "outputs": [
        {
          "output_type": "stream",
          "name": "stdout",
          "text": [
            "Number of rows before cleaning: 541909\n"
          ]
        }
      ]
    },
    {
      "cell_type": "code",
      "source": [
        "# Check the number of rows after cleaning\n",
        "rows_after_cleaning = df_cleaned.count()\n",
        "print(f\"Number of rows after cleaning: {rows_after_cleaning}\")"
      ],
      "metadata": {
        "colab": {
          "base_uri": "https://localhost:8080/"
        },
        "id": "h-dvd65nTvl6",
        "outputId": "2697224f-ffa8-4a04-8f3c-63e4062e5d2a"
      },
      "execution_count": 45,
      "outputs": [
        {
          "output_type": "stream",
          "name": "stdout",
          "text": [
            "Number of rows after cleaning: 522541\n"
          ]
        }
      ]
    },
    {
      "cell_type": "markdown",
      "source": [
        "### 5. Feature Engineering"
      ],
      "metadata": {
        "id": "1Uv_eAX3TxKN"
      }
    },
    {
      "cell_type": "code",
      "source": [
        "# Convert InvoiceDate data type to DateType\n",
        "df_fe = df_cleaned.withColumn(\"InvoiceDate\", to_date(col(\"InvoiceDate\"), \"M/d/yyyy H:mm\"))\n",
        "df_fe.printSchema()\n",
        "df_fe.show(5)"
      ],
      "metadata": {
        "colab": {
          "base_uri": "https://localhost:8080/"
        },
        "id": "0Ux2uHQxT0Mt",
        "outputId": "f983f5e4-6121-49b9-e5f9-c4e73e6fe234"
      },
      "execution_count": 46,
      "outputs": [
        {
          "output_type": "stream",
          "name": "stdout",
          "text": [
            "root\n",
            " |-- InvoiceNo: string (nullable = true)\n",
            " |-- StockCode: string (nullable = true)\n",
            " |-- Description: string (nullable = true)\n",
            " |-- Quantity: integer (nullable = true)\n",
            " |-- InvoiceDate: date (nullable = true)\n",
            " |-- UnitPrice: double (nullable = true)\n",
            " |-- CustomerID: string (nullable = true)\n",
            " |-- Country: string (nullable = true)\n",
            "\n",
            "+---------+---------+--------------------+--------+-----------+---------+----------+--------------+\n",
            "|InvoiceNo|StockCode|         Description|Quantity|InvoiceDate|UnitPrice|CustomerID|       Country|\n",
            "+---------+---------+--------------------+--------+-----------+---------+----------+--------------+\n",
            "|   536415|    22951|60 CAKE CASES DOL...|       2| 2010-12-01|     0.55|     12838|United Kingdom|\n",
            "|   536488|    22909|SET OF 20 VINTAGE...|       1| 2010-12-01|     0.85|     17897|United Kingdom|\n",
            "|   536592|    22665|RECIPE BOX BLUE S...|       1| 2010-12-01|     5.91|   Unknown|United Kingdom|\n",
            "|   536600|   84029G|KNITTED UNION FLA...|       6| 2010-12-02|     3.39|     17850|United Kingdom|\n",
            "|   536612|   84029G|KNITTED UNION FLA...|       6| 2010-12-02|     3.39|     17850|United Kingdom|\n",
            "+---------+---------+--------------------+--------+-----------+---------+----------+--------------+\n",
            "only showing top 5 rows\n",
            "\n"
          ]
        }
      ]
    },
    {
      "cell_type": "code",
      "source": [
        "# Get the max date of the dataset\n",
        "max_date = df_fe.agg(max(\"InvoiceDate\")).collect()[0][0]\n",
        "max_date"
      ],
      "metadata": {
        "colab": {
          "base_uri": "https://localhost:8080/"
        },
        "id": "zhh6xWxVT15P",
        "outputId": "e13f34ee-e1ff-410f-a583-9b8388789566"
      },
      "execution_count": 47,
      "outputs": [
        {
          "output_type": "execute_result",
          "data": {
            "text/plain": [
              "datetime.date(2011, 12, 9)"
            ]
          },
          "metadata": {},
          "execution_count": 47
        }
      ]
    },
    {
      "cell_type": "code",
      "source": [
        "# Calculate recency\n",
        "recency_df = df_fe.groupBy(\"CustomerID\").agg(\n",
        "    datediff(lit(max_date), max(\"InvoiceDate\")).alias(\"Recency\")\n",
        ")\n",
        "recency_df.show(5)\n"
      ],
      "metadata": {
        "colab": {
          "base_uri": "https://localhost:8080/"
        },
        "id": "j63w7WXXT3o9",
        "outputId": "7318ee87-629d-487e-ef8b-f9dfdb907141"
      },
      "execution_count": 48,
      "outputs": [
        {
          "output_type": "stream",
          "name": "stdout",
          "text": [
            "+----------+-------+\n",
            "|CustomerID|Recency|\n",
            "+----------+-------+\n",
            "|     16250|    261|\n",
            "|     15574|    177|\n",
            "|     15555|     12|\n",
            "|     15271|      7|\n",
            "|     17714|    320|\n",
            "+----------+-------+\n",
            "only showing top 5 rows\n",
            "\n"
          ]
        }
      ]
    },
    {
      "cell_type": "code",
      "source": [
        "# Calculate frequency (number of transactions per customer)\n",
        "frequency_df = df_fe.groupBy(\"CustomerID\").agg(\n",
        "    count(\"InvoiceNo\").alias(\"Frequency\")\n",
        ")\n",
        "frequency_df.show(5)"
      ],
      "metadata": {
        "colab": {
          "base_uri": "https://localhost:8080/"
        },
        "id": "v2bj3-UcT5NF",
        "outputId": "8b183ade-ead7-457a-a5a4-25acd3c57f7f"
      },
      "execution_count": 53,
      "outputs": [
        {
          "output_type": "stream",
          "name": "stdout",
          "text": [
            "+----------+---------+\n",
            "|CustomerID|Frequency|\n",
            "+----------+---------+\n",
            "|     13610|      215|\n",
            "|     15555|      885|\n",
            "|     15271|      264|\n",
            "|     15574|      152|\n",
            "|     13282|       37|\n",
            "+----------+---------+\n",
            "only showing top 5 rows\n",
            "\n"
          ]
        }
      ]
    },
    {
      "cell_type": "code",
      "source": [
        "# Calculate Monetary (Total money spent by customer)\n",
        "monetary_df = df_fe.withColumn(\"TotalPrice\", col(\"Quantity\") * col(\"UnitPrice\")) \\\n",
        "    .groupBy(\"CustomerID\") \\\n",
        "    .agg(round(sum(\"TotalPrice\"), 3).alias(\"Monetary\"))\n",
        "monetary_df.show(5)"
      ],
      "metadata": {
        "colab": {
          "base_uri": "https://localhost:8080/"
        },
        "id": "hO6xu49PT773",
        "outputId": "415180a3-7075-4aae-fc67-234c36f67fc3"
      },
      "execution_count": 54,
      "outputs": [
        {
          "output_type": "stream",
          "name": "stdout",
          "text": [
            "+----------+--------+\n",
            "|CustomerID|Monetary|\n",
            "+----------+--------+\n",
            "|     13610| 1082.33|\n",
            "|     15555| 4791.87|\n",
            "|     15271| 2493.34|\n",
            "|     15574|  675.64|\n",
            "|     13282| 1132.14|\n",
            "+----------+--------+\n",
            "only showing top 5 rows\n",
            "\n"
          ]
        }
      ]
    },
    {
      "cell_type": "code",
      "source": [
        "# Join all RFM features\n",
        "dfs = [recency_df, frequency_df, monetary_df]\n",
        "rfm_df = reduce(lambda df1, df2: df1.join(df2, \"CustomerID\"), dfs)\n",
        "rfm_df.show(5)"
      ],
      "metadata": {
        "colab": {
          "base_uri": "https://localhost:8080/"
        },
        "id": "Cd-ZXqUVT8Xk",
        "outputId": "6aa996ac-56dc-4ced-e1f8-dadd2f54e44f"
      },
      "execution_count": 55,
      "outputs": [
        {
          "output_type": "stream",
          "name": "stdout",
          "text": [
            "+----------+-------+---------+--------+\n",
            "|CustomerID|Recency|Frequency|Monetary|\n",
            "+----------+-------+---------+--------+\n",
            "|     13610|     12|      215| 1082.33|\n",
            "|     15555|     12|      885| 4791.87|\n",
            "|     15271|      7|      264| 2493.34|\n",
            "|     15574|    177|      152|  675.64|\n",
            "|     13282|     18|       37| 1132.14|\n",
            "+----------+-------+---------+--------+\n",
            "only showing top 5 rows\n",
            "\n"
          ]
        }
      ]
    },
    {
      "cell_type": "code",
      "source": [
        "# Calculate the average of Recency, Frequency, and Monetary\n",
        "rfm_df.select(\n",
        "    mean(\"Recency\").alias(\"Mean_Recency\"),\n",
        "    mean(\"Frequency\").alias(\"Mean_Frequency\"),\n",
        "    mean(\"Monetary\").alias(\"Mean_Monetary\")\n",
        ").show()"
      ],
      "metadata": {
        "colab": {
          "base_uri": "https://localhost:8080/"
        },
        "id": "Y1kCEToUT-hY",
        "outputId": "876ab620-e2fc-4c4a-fae4-b2b846817f4c"
      },
      "execution_count": 52,
      "outputs": [
        {
          "output_type": "stream",
          "name": "stdout",
          "text": [
            "+-----------------+------------------+------------------+\n",
            "|     Mean_Recency|    Mean_Frequency|     Mean_Monetary|\n",
            "+-----------------+------------------+------------------+\n",
            "|92.20530565167243|120.54002306805074|2363.8343420991937|\n",
            "+-----------------+------------------+------------------+\n",
            "\n"
          ]
        }
      ]
    },
    {
      "cell_type": "code",
      "source": [
        "# Define thresholds based on the mean values\n",
        "recency_threshold = 95\n",
        "frequency_threshold = 120\n",
        "\n",
        "# Create a new column 'Churn' based on the thresholds\n",
        "rfm_df = rfm_df.withColumn(\n",
        "    \"Churn\",\n",
        "    when((col(\"Recency\") > recency_threshold) & (col(\"Frequency\") <= frequency_threshold), 1).otherwise(0)\n",
        ")\n",
        "\n",
        "# Show the resulting DataFrame with Churn column\n",
        "rfm_df.select(\"CustomerID\", \"Recency\", \"Frequency\", \"Monetary\", \"Churn\").show()"
      ],
      "metadata": {
        "colab": {
          "base_uri": "https://localhost:8080/"
        },
        "id": "YhB3BqryUA7E",
        "outputId": "62be04cc-81e9-409a-d5e9-40a01df0b093"
      },
      "execution_count": 56,
      "outputs": [
        {
          "output_type": "stream",
          "name": "stdout",
          "text": [
            "+----------+-------+---------+--------+-----+\n",
            "|CustomerID|Recency|Frequency|Monetary|Churn|\n",
            "+----------+-------+---------+--------+-----+\n",
            "|     13610|     12|      215| 1082.33|    0|\n",
            "|     15555|     12|      885| 4791.87|    0|\n",
            "|     15271|      7|      264| 2493.34|    0|\n",
            "|     15574|    177|      152|  675.64|    0|\n",
            "|     13282|     18|       37| 1132.14|    0|\n",
            "|     14157|     19|       46|  424.89|    0|\n",
            "|     16250|    261|       24|  389.44|    1|\n",
            "|     12394|     63|       25| 1080.48|    0|\n",
            "|     17686|      7|      286| 5739.46|    0|\n",
            "|     16320|    172|       56| 1038.46|    1|\n",
            "|     13865|     58|       30|  501.56|    0|\n",
            "|     13772|     33|      173| 1122.63|    0|\n",
            "|     17714|    320|       10|   153.0|    1|\n",
            "|     13192|     95|       63|  911.94|    0|\n",
            "|     18130|     15|       70| 1059.39|    0|\n",
            "|     16504|     25|       83|  465.88|    0|\n",
            "|     17506|     75|       14|   302.2|    0|\n",
            "|     12847|     22|       84|  843.64|    0|\n",
            "|     14887|     79|        6|  1862.0|    0|\n",
            "|     14204|      2|       39|  150.61|    0|\n",
            "+----------+-------+---------+--------+-----+\n",
            "only showing top 20 rows\n",
            "\n"
          ]
        }
      ]
    },
    {
      "cell_type": "markdown",
      "source": [
        "### Final Dataframe\n",
        "\n",
        "- If you want to work with timestamp (yyyy-M-d H:mm:ss) data, please use the code: [df_cleaned.join()]\n",
        "- If you want to work with date (only yyyy=M-d), please change the below code:[df_cleaned.join()] --> [df_fe.join()]"
      ],
      "metadata": {
        "id": "oUcqwmAsUEi2"
      }
    },
    {
      "cell_type": "code",
      "source": [
        "# Join churn label into transaction-level cleaned data\n",
        "final_df = rfm_df.join(df_cleaned, on=\"CustomerID\", how=\"left\")\n",
        "final_df.show()"
      ],
      "metadata": {
        "colab": {
          "base_uri": "https://localhost:8080/"
        },
        "id": "3aTIKdvKUCte",
        "outputId": "58cc0856-33e2-4cce-ef2f-0765ed0da592"
      },
      "execution_count": 58,
      "outputs": [
        {
          "output_type": "stream",
          "name": "stdout",
          "text": [
            "+----------+-------+---------+--------+-----+---------+---------+--------------------+--------+-------------------+---------+-------+\n",
            "|CustomerID|Recency|Frequency|Monetary|Churn|InvoiceNo|StockCode|         Description|Quantity|        InvoiceDate|UnitPrice|Country|\n",
            "+----------+-------+---------+--------+-----+---------+---------+--------------------+--------+-------------------+---------+-------+\n",
            "|     12394|     63|       25| 1080.48|    0|   552188|    22557|PLASTERS IN TIN V...|      12|2011-05-06 14:01:00|     1.65|Belgium|\n",
            "|     12394|     63|       25| 1080.48|    0|   552188|    22551|PLASTERS IN TIN S...|      12|2011-05-06 14:01:00|     1.65|Belgium|\n",
            "|     12394|     63|       25| 1080.48|    0|   552188|    21244|BLUE POLKADOT PLATE |       8|2011-05-06 14:01:00|     1.69|Belgium|\n",
            "|     12394|     63|       25| 1080.48|    0|   552188|    23256|CHILDRENS CUTLERY...|       8|2011-05-06 14:01:00|     4.15|Belgium|\n",
            "|     12394|     63|       25| 1080.48|    0|   552188|    21245|GREEN POLKADOT PL...|       8|2011-05-06 14:01:00|     1.69|Belgium|\n",
            "|     12394|     63|       25| 1080.48|    0|   552188|    20675|  BLUE POLKADOT BOWL|       8|2011-05-06 14:01:00|     1.25|Belgium|\n",
            "|     12394|     63|       25| 1080.48|    0|   552188|    22555|PLASTERS IN TIN S...|      12|2011-05-06 14:01:00|     1.65|Belgium|\n",
            "|     12394|     63|       25| 1080.48|    0|   552188|    21238|   RED RETROSPOT CUP|       8|2011-05-06 14:01:00|     0.85|Belgium|\n",
            "|     12394|     63|       25| 1080.48|    0|   552188|    21452| TOADSTOOL MONEY BOX|       6|2011-05-06 14:01:00|     2.95|Belgium|\n",
            "|     12394|     63|       25| 1080.48|    0|   552188|    20674| GREEN POLKADOT BOWL|       8|2011-05-06 14:01:00|     1.25|Belgium|\n",
            "|     12394|     63|       25| 1080.48|    0|   552188|    22634|CHILDS BREAKFAST ...|       2|2011-05-06 14:01:00|     9.95|Belgium|\n",
            "|     12394|     63|       25| 1080.48|    0|   569997|    23295|SET OF 12 MINI LO...|     256|2011-10-07 08:08:00|     0.72|Denmark|\n",
            "|     12394|     63|       25| 1080.48|    0|   569997|    37495|FAIRY CAKE BIRTHD...|      36|2011-10-07 08:08:00|     2.95|Denmark|\n",
            "|     12394|     63|       25| 1080.48|    0|   552188|    22630|DOLLY GIRL LUNCH BOX|      12|2011-05-06 14:01:00|     1.95|Belgium|\n",
            "|     12394|     63|       25| 1080.48|    0|   552188|    21242|RED RETROSPOT PLATE |      16|2011-05-06 14:01:00|     1.69|Belgium|\n",
            "|     12394|     63|       25| 1080.48|    0|   552188|    21240|   BLUE POLKADOT CUP|       8|2011-05-06 14:01:00|     0.85|Belgium|\n",
            "|     12394|     63|       25| 1080.48|    0|   552188|    23254|CHILDRENS CUTLERY...|       4|2011-05-06 14:01:00|     4.15|Belgium|\n",
            "|     12394|     63|       25| 1080.48|    0|   552188|    23255|CHILDRENS CUTLERY...|       4|2011-05-06 14:01:00|     4.15|Belgium|\n",
            "|     12394|     63|       25| 1080.48|    0|   552188|    20676|  RED RETROSPOT BOWL|       8|2011-05-06 14:01:00|     1.25|Belgium|\n",
            "|     12394|     63|       25| 1080.48|    0|   552188|    22629| SPACEBOY LUNCH BOX |      12|2011-05-06 14:01:00|     1.95|Belgium|\n",
            "+----------+-------+---------+--------+-----+---------+---------+--------------------+--------+-------------------+---------+-------+\n",
            "only showing top 20 rows\n",
            "\n"
          ]
        }
      ]
    },
    {
      "cell_type": "markdown",
      "source": [
        "- For further steps after my parts, I got a few instruction for each role of the type of dataframe\n",
        "\n",
        "- df: original raw dataframe\n",
        "- df_cleaned: dataframe after data cleaning in part 3\n",
        "- df_fe : dataframe where the InvoiceDate converted into Date formula.\n",
        "- rfm_df : The RFM dataframe with columns [CustomerID, Recency, Frequency, Monetary, Churn]\n",
        "- final_df (optional) : use this if you prefer working directly with the cleaned transactional data (df_cleaned) rather than the aggregated RFM data."
      ],
      "metadata": {
        "id": "E_OVg9uxUMxO"
      }
    },
    {
      "cell_type": "markdown",
      "source": [
        "### Analysis Of Online Retail\n",
        "- I used final_df with final_df is the rfm_df join with clean_df"
      ],
      "metadata": {
        "id": "_bOXE0f1ZAhz"
      }
    },
    {
      "cell_type": "markdown",
      "source": [
        "### Overall RFM by churn"
      ],
      "metadata": {
        "id": "S8AKdp2-ZKAT"
      }
    },
    {
      "cell_type": "code",
      "source": [
        "final_df.groupBy(\"Churn\") \\\n",
        "    .agg(\n",
        "        avg(\"Recency\").alias(\"Avg_Recency\"),\n",
        "        avg(\"Frequency\").alias(\"Avg_Frequency\"),\n",
        "        avg(\"Monetary\").alias(\"Avg_Monetary\"),\n",
        "        countDistinct(\"CustomerID\").alias(\"Num_Customers\")\n",
        "    ).show()\n"
      ],
      "metadata": {
        "colab": {
          "base_uri": "https://localhost:8080/"
        },
        "id": "kggi-PX1ZPCz",
        "outputId": "e3e1e890-5330-43ae-935c-aa89fac467ca"
      },
      "execution_count": 59,
      "outputs": [
        {
          "output_type": "stream",
          "name": "stdout",
          "text": [
            "+-----+------------------+------------------+-----------------+-------------+\n",
            "|Churn|       Avg_Recency|     Avg_Frequency|     Avg_Monetary|Num_Customers|\n",
            "+-----+------------------+------------------+-----------------+-------------+\n",
            "|    1|202.52458374142998|48.705330908073314| 805.675525675109|         1340|\n",
            "|    0|17.887016593879288| 35979.75082476387|416483.0581520642|         2995|\n",
            "+-----+------------------+------------------+-----------------+-------------+\n",
            "\n"
          ]
        }
      ]
    },
    {
      "cell_type": "markdown",
      "source": [
        "- Higher recency is a strong churn signal, on average, churn customers on average has 202 days since last purchase, while other customers who are not churn only has 17.2 days\n",
        "- Churn customers only make 48 purchases-> New customers that only buy a few, then don't return -> Could be an isssue with customer retention\n",
        "- Customers who are not churn made average 36.000 -> extremely high-> verify if a problem with calculation?\n",
        "- High-spending customers tend to stay longer, as loyal customers bought nearly 416K-> focus on campaigns with VIP"
      ],
      "metadata": {
        "id": "-Li3UhwfcWna"
      }
    },
    {
      "cell_type": "markdown",
      "source": [
        "### Is There A Special Season/ Time Associated With Churn Pattern"
      ],
      "metadata": {
        "id": "SzDohLr-ZR6h"
      }
    },
    {
      "cell_type": "markdown",
      "source": [
        "### Monthly Active Customers (by Churn Status)"
      ],
      "metadata": {
        "id": "L2KZrObdmP4j"
      }
    },
    {
      "cell_type": "code",
      "source": [
        "from pyspark.sql.functions import month, year, countDistinct\n",
        "\n",
        "monthly_churn_df = final_df.withColumn(\"Year\", year(\"InvoiceDate\")) \\\n",
        "    .withColumn(\"Month\", month(\"InvoiceDate\")) \\\n",
        "    .groupBy(\"Year\", \"Month\", \"Churn\") \\\n",
        "    .agg(countDistinct(\"CustomerID\").alias(\"Num_Customers\")) \\\n",
        "    .orderBy(\"Year\", \"Month\", \"Churn\")\n",
        "\n",
        "monthly_churn_df.show()\n"
      ],
      "metadata": {
        "colab": {
          "base_uri": "https://localhost:8080/"
        },
        "id": "Msb_fc3elx6X",
        "outputId": "696c1178-97bf-4341-c201-1c2891d7069f"
      },
      "execution_count": 75,
      "outputs": [
        {
          "output_type": "stream",
          "name": "stdout",
          "text": [
            "+----+-----+-----+-------------+\n",
            "|Year|Month|Churn|Num_Customers|\n",
            "+----+-----+-----+-------------+\n",
            "|2010|   12|    0|          642|\n",
            "|2010|   12|    1|          243|\n",
            "|2011|    1|    0|          555|\n",
            "|2011|    1|    1|          185|\n",
            "|2011|    2|    0|          562|\n",
            "|2011|    2|    1|          196|\n",
            "|2011|    3|    0|          701|\n",
            "|2011|    3|    1|          273|\n",
            "|2011|    4|    0|          631|\n",
            "|2011|    4|    1|          223|\n",
            "|2011|    5|    0|          801|\n",
            "|2011|    5|    1|          254|\n",
            "|2011|    6|    0|          764|\n",
            "|2011|    6|    1|          227|\n",
            "|2011|    7|    0|          738|\n",
            "|2011|    7|    1|          209|\n",
            "|2011|    8|    0|          731|\n",
            "|2011|    8|    1|          203|\n",
            "|2011|    9|    0|         1237|\n",
            "|2011|    9|    1|           23|\n",
            "+----+-----+-----+-------------+\n",
            "only showing top 20 rows\n",
            "\n"
          ]
        }
      ]
    },
    {
      "cell_type": "code",
      "source": [
        "monthly_churn_pd = monthly_churn_df.toPandas()\n"
      ],
      "metadata": {
        "id": "Z-ko6jYLmwFh"
      },
      "execution_count": 77,
      "outputs": []
    },
    {
      "cell_type": "code",
      "source": [
        "monthly_churn_pd[\"Month\"] = monthly_churn_pd[\"Month\"].astype(str).str.zfill(2)\n",
        "monthly_churn_pd[\"Date\"] = pd.to_datetime(monthly_churn_pd[\"Year\"].astype(str) + \"-\" + monthly_churn_pd[\"Month\"])"
      ],
      "metadata": {
        "id": "MbsW0kCBm1bI"
      },
      "execution_count": 79,
      "outputs": []
    },
    {
      "cell_type": "code",
      "source": [
        "monthly_churn_pd[\"Churn\"] = monthly_churn_pd[\"Churn\"].map({0: \"Retained\", 1: \"Churned\"})"
      ],
      "metadata": {
        "id": "p0MkKIaLn_BY"
      },
      "execution_count": 80,
      "outputs": []
    },
    {
      "cell_type": "code",
      "source": [
        "import seaborn as sns\n",
        "import matplotlib.pyplot as plt\n",
        "\n",
        "plt.figure(figsize=(14, 6))\n",
        "sns.lineplot(data=monthly_churn_pd, x=\"Date\", y=\"Num_Customers\", hue=\"Churn\", marker=\"o\")\n",
        "\n",
        "plt.title(\"Monthly Unique Customers by Churn Status\")\n",
        "plt.xlabel(\"Date\")\n",
        "plt.ylabel(\"Number of Unique Customers\")\n",
        "plt.xticks(rotation=45)\n",
        "plt.grid(True)\n",
        "plt.legend(title=\"Churn Status\")\n",
        "plt.tight_layout()\n",
        "plt.show()\n"
      ],
      "metadata": {
        "colab": {
          "base_uri": "https://localhost:8080/",
          "height": 601
        },
        "id": "TNcnPvSaoBtQ",
        "outputId": "983eb761-f2c0-4d8a-8770-b30727708309"
      },
      "execution_count": 81,
      "outputs": [
        {
          "output_type": "display_data",
          "data": {
            "text/plain": [
              "<Figure size 1400x600 with 1 Axes>"
            ],
            "image/png": "[encoded data removed]"
          },
          "metadata": {}
        }
      ]
    },
    {
      "cell_type": "markdown",
      "source": [
        "### Retained Vs Churn Rate Over Time\n",
        "- Retained customers suddenly dropped deeply after 11/2011, just nearly 1/3 of 11/2011-> Needed to run further analysis on this\n",
        "- Churned customers suddenly decrease to 0 in 09/2011-> why?"
      ],
      "metadata": {
        "id": "IGCk1nd7oF0i"
      }
    },
    {
      "cell_type": "markdown",
      "source": [
        "### Monthly Revenue by Churn"
      ],
      "metadata": {
        "id": "zHvQVZNgmUI0"
      }
    },
    {
      "cell_type": "code",
      "source": [
        "from pyspark.sql.functions import col, sum as _sum\n",
        "\n",
        "monthly_revenue_df = final_df.withColumn(\"Year\", year(\"InvoiceDate\")) \\\n",
        "    .withColumn(\"Month\", month(\"InvoiceDate\")) \\\n",
        "    .withColumn(\"Revenue\", col(\"Quantity\") * col(\"UnitPrice\")) \\\n",
        "    .groupBy(\"Year\", \"Month\", \"Churn\") \\\n",
        "    .agg(_sum(\"Revenue\").alias(\"Total_Revenue\")) \\\n",
        "    .orderBy(\"Year\", \"Month\", \"Churn\")\n",
        "\n",
        "monthly_revenue_df.show()\n"
      ],
      "metadata": {
        "colab": {
          "base_uri": "https://localhost:8080/"
        },
        "id": "e41EmEgvmY8q",
        "outputId": "213cd92a-1b62-443d-d4bc-ce115a1e9e5b"
      },
      "execution_count": 76,
      "outputs": [
        {
          "output_type": "stream",
          "name": "stdout",
          "text": [
            "+----+-----+-----+------------------+\n",
            "|Year|Month|Churn|     Total_Revenue|\n",
            "+----+-----+-----+------------------+\n",
            "|2010|   12|    0| 692206.2299999649|\n",
            "|2010|   12|    1| 83434.68000000033|\n",
            "|2011|    1|    0| 507437.9500000053|\n",
            "|2011|    1|    1|162942.28999999954|\n",
            "|2011|    2|    0|  440877.610000005|\n",
            "|2011|    2|    1|  66922.2600000002|\n",
            "|2011|    3|    0| 598501.3900000063|\n",
            "|2011|    3|    1| 91332.12000000029|\n",
            "|2011|    4|    0| 419648.1810000029|\n",
            "|2011|    4|    1| 95729.81000000006|\n",
            "|2011|    5|    0| 642772.0400000144|\n",
            "|2011|    5|    1| 97180.96000000027|\n",
            "|2011|    6|    0| 631824.9500000088|\n",
            "|2011|    6|    1|105734.03000000003|\n",
            "|2011|    7|    0| 612481.8010000159|\n",
            "|2011|    7|    1| 75737.54000000011|\n",
            "|2011|    8|    0| 653958.8600000086|\n",
            "|2011|    8|    1| 70257.64000000009|\n",
            "|2011|    9|    0|1021674.5610000177|\n",
            "|2011|    9|    1| 6645.820000000005|\n",
            "+----+-----+-----+------------------+\n",
            "only showing top 20 rows\n",
            "\n"
          ]
        }
      ]
    },
    {
      "cell_type": "code",
      "source": [
        "monthly_revenue_pd = monthly_revenue_df.toPandas()"
      ],
      "metadata": {
        "id": "cgGMVirZorEi"
      },
      "execution_count": 82,
      "outputs": []
    },
    {
      "cell_type": "code",
      "source": [
        "monthly_revenue_pd[\"Month\"] = monthly_revenue_pd[\"Month\"].astype(str).str.zfill(2)\n",
        "monthly_revenue_pd[\"Date\"] = pd.to_datetime(monthly_revenue_pd[\"Year\"].astype(str) + \"-\" + monthly_revenue_pd[\"Month\"])"
      ],
      "metadata": {
        "id": "BiJwNQpaos39"
      },
      "execution_count": 83,
      "outputs": []
    },
    {
      "cell_type": "code",
      "source": [
        "monthly_revenue_pd[\"Churn\"] = monthly_revenue_pd[\"Churn\"].map({0: \"Retained\", 1: \"Churned\"})"
      ],
      "metadata": {
        "id": "O_6fUgPFowCY"
      },
      "execution_count": 84,
      "outputs": []
    },
    {
      "cell_type": "code",
      "source": [
        "import seaborn as sns\n",
        "import matplotlib.pyplot as plt\n",
        "\n",
        "plt.figure(figsize=(14, 6))\n",
        "sns.lineplot(data=monthly_revenue_pd, x=\"Date\", y=\"Total_Revenue\", hue=\"Churn\", marker=\"o\")\n",
        "\n",
        "plt.title(\"Monthly Revenue by Churn Status\")\n",
        "plt.xlabel(\"Date\")\n",
        "plt.ylabel(\"Total Revenue\")\n",
        "plt.xticks(rotation=45)\n",
        "plt.grid(True)\n",
        "plt.legend(title=\"Churn Status\")\n",
        "plt.tight_layout()\n",
        "plt.show()\n"
      ],
      "metadata": {
        "colab": {
          "base_uri": "https://localhost:8080/",
          "height": 601
        },
        "id": "GJqbV08Boyot",
        "outputId": "d94a545b-1445-4916-a8c7-ddccbf3f5bf4"
      },
      "execution_count": 85,
      "outputs": [
        {
          "output_type": "display_data",
          "data": {
            "text/plain": [
              "<Figure size 1400x600 with 1 Axes>"
            ],
            "image/png": "[encoded data removed]"
          },
          "metadata": {}
        }
      ]
    },
    {
      "cell_type": "markdown",
      "source": [
        "### Monthly Revenue By Churn Status\n",
        "- Retained customers sales increase steadily from 09 to 11/2011, then suddenly dropped, and then the retained customer rate also dropped -> It might be because of a after-holiday effect, in which customers bulk buying within a short span of time, then left. Maybe because a special promo campaign\n",
        "- Retained customers prefer to shop in mid-year to end-year season, and has the 1-month off purhcasing behavior-> this is maybe because of a promo, or a seasonal issue\n",
        "- Churn customers don't buy anything at all in 9/2011, but churn rate dropped to 0 in the same period of time-> suspicious"
      ],
      "metadata": {
        "id": "J_i6Hvs7o11M"
      }
    },
    {
      "cell_type": "markdown",
      "source": [
        "### What Product/ Category Churn Customer Usually Buy?"
      ],
      "metadata": {
        "id": "UZIn4mShZd6v"
      }
    },
    {
      "cell_type": "code",
      "source": [
        "final_df.groupBy(\"Description\", \"Churn\") \\\n",
        "    .agg(count(\"*\").alias(\"Num_Transactions\")) \\\n",
        "    .orderBy(desc(\"Num_Transactions\")) \\\n",
        "    .show(20)\n"
      ],
      "metadata": {
        "colab": {
          "base_uri": "https://localhost:8080/"
        },
        "id": "KLmAs3OLZhj7",
        "outputId": "170516da-762b-4c86-fb9c-685cb4a36c80"
      },
      "execution_count": 61,
      "outputs": [
        {
          "output_type": "stream",
          "name": "stdout",
          "text": [
            "+--------------------+-----+----------------+\n",
            "|         Description|Churn|Num_Transactions|\n",
            "+--------------------+-----+----------------+\n",
            "|WHITE HANGING HEA...|    0|            2046|\n",
            "|JUMBO BAG RED RET...|    0|            1996|\n",
            "|REGENCY CAKESTAND...|    0|            1768|\n",
            "|       PARTY BUNTING|    0|            1507|\n",
            "|LUNCH BAG RED RET...|    0|            1479|\n",
            "|ASSORTED COLOUR B...|    0|            1308|\n",
            "|SET OF 3 CAKE TIN...|    0|            1250|\n",
            "|LUNCH BAG  BLACK ...|    0|            1228|\n",
            "|PACK OF 72 RETROS...|    0|            1227|\n",
            "|JUMBO BAG PINK PO...|    0|            1168|\n",
            "|JUMBO STORAGE BAG...|    0|            1144|\n",
            "|PAPER CHAIN KIT 5...|    0|            1142|\n",
            "|JUMBO SHOPPER VIN...|    0|            1127|\n",
            "|NATURAL SLATE HEA...|    0|            1126|\n",
            "|HEART OF WICKER S...|    0|            1109|\n",
            "|LUNCH BAG SPACEBO...|    0|            1082|\n",
            "|      SPOTTY BUNTING|    0|            1071|\n",
            "| LUNCH BAG CARS BLUE|    0|            1071|\n",
            "|JAM MAKING SET PR...|    0|            1056|\n",
            "|LUNCH BAG SUKI DE...|    0|            1050|\n",
            "+--------------------+-----+----------------+\n",
            "only showing top 20 rows\n",
            "\n"
          ]
        }
      ]
    },
    {
      "cell_type": "markdown",
      "source": [
        "### Churn Pattern By Nations"
      ],
      "metadata": {
        "id": "yTykRgoqZ3wi"
      }
    },
    {
      "cell_type": "code",
      "source": [
        "final_df.groupBy(\"Country\", \"Churn\") \\\n",
        "    .agg(countDistinct(\"CustomerID\").alias(\"Num_Customers\")) \\\n",
        "    .orderBy(desc(\"Num_Customers\")) \\\n",
        "    .show(30)\n"
      ],
      "metadata": {
        "colab": {
          "base_uri": "https://localhost:8080/"
        },
        "id": "xXJ6NiPOaBrk",
        "outputId": "e9dd5e37-ea7e-413c-ce7f-9f43dbf366e5"
      },
      "execution_count": 72,
      "outputs": [
        {
          "output_type": "stream",
          "name": "stdout",
          "text": [
            "+---------------+-----+-------------+\n",
            "|        Country|Churn|Num_Customers|\n",
            "+---------------+-----+-------------+\n",
            "| United Kingdom|    0|         2706|\n",
            "| United Kingdom|    1|         1211|\n",
            "|        Germany|    0|           72|\n",
            "|         France|    0|           64|\n",
            "|         France|    1|           24|\n",
            "|          Spain|    0|           23|\n",
            "|        Germany|    1|           22|\n",
            "|        Belgium|    0|           18|\n",
            "|    Switzerland|    0|           15|\n",
            "|       Portugal|    0|           13|\n",
            "|        Finland|    0|           10|\n",
            "|          Italy|    0|           10|\n",
            "|        Denmark|    0|            9|\n",
            "|         Norway|    0|            8|\n",
            "|    Switzerland|    1|            7|\n",
            "|          Spain|    1|            7|\n",
            "|        Belgium|    1|            7|\n",
            "|       Portugal|    1|            7|\n",
            "|      Australia|    0|            7|\n",
            "|        Austria|    0|            6|\n",
            "|         Cyprus|    0|            6|\n",
            "|    Netherlands|    0|            6|\n",
            "|         Sweden|    0|            5|\n",
            "|        Austria|    1|            5|\n",
            "|Channel Islands|    0|            5|\n",
            "|           EIRE|    0|            4|\n",
            "|Channel Islands|    1|            4|\n",
            "|          Italy|    1|            4|\n",
            "|          Japan|    0|            4|\n",
            "|          Japan|    1|            4|\n",
            "+---------------+-----+-------------+\n",
            "only showing top 30 rows\n",
            "\n"
          ]
        }
      ]
    },
    {
      "cell_type": "code",
      "source": [
        "country_churn_df = final_df.groupBy(\"Country\", \"Churn\") \\\n",
        "    .agg(countDistinct(\"CustomerID\").alias(\"Num_Customers\")) \\\n",
        "    .orderBy(desc(\"Num_Customers\")) \\\n",
        "    .toPandas()\n"
      ],
      "metadata": {
        "id": "Jj7j1_injIfo"
      },
      "execution_count": 73,
      "outputs": []
    },
    {
      "cell_type": "code",
      "source": [
        "import matplotlib.pyplot as plt\n",
        "import seaborn as sns\n",
        "\n",
        "sns.set(style=\"whitegrid\")\n",
        "pivot_df = country_churn_df.pivot(index=\"Country\", columns=\"Churn\", values=\"Num_Customers\").fillna(0)\n",
        "pivot_df.columns = ['Retained (0)', 'Churned (1)']\n",
        "pivot_df = pivot_df.sort_values(by='Retained (0)', ascending=False)  # Sort by retained\n",
        "\n",
        "# Plot\n",
        "pivot_df.plot(kind='barh', stacked=False, figsize=(10, 12), colormap='Paired')\n",
        "plt.title(\"Number of Unique Customers by Country and Churn Status\")\n",
        "plt.xlabel(\"Number of Customers\")\n",
        "plt.ylabel(\"Country\")\n",
        "plt.legend(title=\"Churn Status\")\n",
        "plt.tight_layout()\n",
        "plt.show()\n"
      ],
      "metadata": {
        "colab": {
          "base_uri": "https://localhost:8080/",
          "height": 1000
        },
        "id": "FpxkaaeZitiV",
        "outputId": "65b4f295-4f8f-4c55-b3a5-b8ddbc55d538"
      },
      "execution_count": 74,
      "outputs": [
        {
          "output_type": "display_data",
          "data": {
            "text/plain": [
              "<Figure size 1000x1200 with 1 Axes>"
            ],
            "image/png": "[encoded data removed]"
          },
          "metadata": {}
        }
      ]
    },
    {
      "cell_type": "markdown",
      "source": [
        "### Churn By Country\n",
        "- Mostly in United Kingdom, Germany, France, Spain, with United King Dom has nearly 40% churn rate"
      ],
      "metadata": {
        "id": "gfXFO8QTj4Q4"
      }
    },
    {
      "cell_type": "markdown",
      "source": [
        "### Order Return By Churn Customer"
      ],
      "metadata": {
        "id": "UUh43n4PZ_Ib"
      }
    },
    {
      "cell_type": "code",
      "source": [
        "final_df.withColumn(\"IsReturn\", (col(\"Quantity\") < 0).cast(\"int\")) \\\n",
        "    .groupBy(\"Churn\") \\\n",
        "    .agg(\n",
        "        sum(\"IsReturn\").alias(\"Num_Returns\"),\n",
        "        count(\"*\").alias(\"Total_Tx\"),\n",
        "        (sum(\"IsReturn\") / count(\"*\")).alias(\"Return_Rate\")\n",
        "    ).show()\n"
      ],
      "metadata": {
        "colab": {
          "base_uri": "https://localhost:8080/"
        },
        "id": "IeuwUwr2Z7lX",
        "outputId": "11488d0a-ef8c-42fd-e23b-8dff2eb4f086"
      },
      "execution_count": 63,
      "outputs": [
        {
          "output_type": "stream",
          "name": "stdout",
          "text": [
            "+-----+-----------+--------+-----------+\n",
            "|Churn|Num_Returns|Total_Tx|Return_Rate|\n",
            "+-----+-----------+--------+-----------+\n",
            "|    1|          0|   35735|        0.0|\n",
            "|    0|          0|  486806|        0.0|\n",
            "+-----+-----------+--------+-----------+\n",
            "\n"
          ]
        }
      ]
    },
    {
      "cell_type": "markdown",
      "source": [
        "### Churn By Order Return Rate\n",
        "- Orders are not returned by both churn/ non-churn, so probably there is not a problem with product's quality"
      ],
      "metadata": {
        "id": "GnsLF5RikIh-"
      }
    },
    {
      "cell_type": "markdown",
      "source": [
        "### Further Analysis With AOV:\n"
      ],
      "metadata": {
        "id": "QXBlif7XbODK"
      }
    },
    {
      "cell_type": "code",
      "source": [
        "from pyspark.sql.functions import col, sum, countDistinct\n",
        "\n",
        "# Tạo cột doanh thu của mỗi dòng giao dịch\n",
        "final_df = final_df.withColumn(\"Revenue\", col(\"Quantity\") * col(\"UnitPrice\"))\n",
        "\n",
        "# Tính AOV theo CustomerID\n",
        "aov_df = final_df.groupBy(\"CustomerID\").agg(\n",
        "    sum(\"Revenue\").alias(\"TotalRevenue\"),\n",
        "    countDistinct(\"InvoiceNo\").alias(\"NumOrders\")\n",
        ").withColumn(\"AOV\", col(\"TotalRevenue\") / col(\"NumOrders\"))\n",
        "\n",
        "# Join AOV vào final_df\n",
        "final_df = final_df.join(aov_df.select(\"CustomerID\", \"AOV\"), on=\"CustomerID\", how=\"left\")\n"
      ],
      "metadata": {
        "id": "rIo2wDsQbRpl"
      },
      "execution_count": 64,
      "outputs": []
    },
    {
      "cell_type": "markdown",
      "source": [
        "### Churn Pattern By AOV"
      ],
      "metadata": {
        "id": "fA5iit9HbesM"
      }
    },
    {
      "cell_type": "code",
      "source": [
        "final_df.groupBy(\"Churn\").agg(\n",
        "    avg(\"AOV\").alias(\"Avg_AOV\"),\n",
        "    expr(\"percentile_approx(AOV, 0.5)\").alias(\"Median_AOV\"),\n",
        "    max(\"AOV\").alias(\"Max_AOV\"),\n",
        "    min(\"AOV\").alias(\"Min_AOV\"),\n",
        "    countDistinct(\"CustomerID\").alias(\"Num_Customers\")\n",
        ").show()\n"
      ],
      "metadata": {
        "colab": {
          "base_uri": "https://localhost:8080/"
        },
        "id": "qPBi0g6zbjtI",
        "outputId": "cec2df3f-a139-4a85-bb8f-0f9b8d911408"
      },
      "execution_count": 65,
      "outputs": [
        {
          "output_type": "stream",
          "name": "stdout",
          "text": [
            "+-----+------------------+------------------+--------+-------+-------------+\n",
            "|Churn|           Avg_AOV|        Median_AOV| Max_AOV|Min_AOV|Num_Customers|\n",
            "+-----+------------------+------------------+--------+-------+-------------+\n",
            "|    1|402.11266919997536|            305.94| 77183.6|   3.75|         1340|\n",
            "|    0| 704.3130837721731|488.92333333333335|84236.25|    5.9|         2995|\n",
            "+-----+------------------+------------------+--------+-------+-------------+\n",
            "\n"
          ]
        }
      ]
    },
    {
      "cell_type": "markdown",
      "source": [
        "### Churn Pattern By AOV:\n",
        "- Customer who are not churn, has approximately 2 times higher AOV (Average Order Value) than churn customers,  with the maximum AOV 10 times higher than churn customers -> Premium-tier customers usually stay longer-> filter high-value customers and target them with personalized promotions\n"
      ],
      "metadata": {
        "id": "Ql0UqpHUbtio"
      }
    }
  ]
}